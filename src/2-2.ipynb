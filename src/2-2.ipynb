{
 "cells": [
  {
   "cell_type": "code",
   "execution_count": 15,
   "metadata": {},
   "outputs": [],
   "source": [
    "p_input = \"\"\"7 6 4 2 1\n",
    "1 2 7 8 9\n",
    "9 7 6 2 1\n",
    "1 3 2 4 5\n",
    "8 6 4 4 1\n",
    "1 3 6 7 9\"\"\""
   ]
  },
  {
   "cell_type": "code",
   "execution_count": 31,
   "metadata": {},
   "outputs": [],
   "source": [
    "with open('2-1.txt') as f:\n",
    "    p_input=f.readlines()"
   ]
  },
  {
   "cell_type": "code",
   "execution_count": 16,
   "metadata": {},
   "outputs": [],
   "source": [
    "import numpy as np\n",
    "import pandas as pd\n",
    "import matplotlib.pyplot as plt"
   ]
  },
  {
   "cell_type": "code",
   "execution_count": 52,
   "metadata": {},
   "outputs": [],
   "source": [
    "def safety(lst):\n",
    "    # numpy version\n",
    "    diffs = np.diff(lst)\n",
    "    incr = np.all((diffs >= 1) & (diffs <= 3))\n",
    "    decr = np.all((diffs <= -1) & (diffs >= -3))\n",
    "    safe = incr or decr\n",
    "    return safe"
   ]
  },
  {
   "cell_type": "code",
   "execution_count": 61,
   "metadata": {},
   "outputs": [],
   "source": [
    "def safety(lst):\n",
    "    # standard python version\n",
    "    diffs = [lst[i+1] - lst[i] for i in range(len(lst)-1)]\n",
    "    incr = all(1 <= d <= 3 for d in diffs)\n",
    "    decr = all(-3 <= d <= -1 for d in diffs)\n",
    "    return incr or decr"
   ]
  },
  {
   "cell_type": "code",
   "execution_count": 62,
   "metadata": {},
   "outputs": [
    {
     "name": "stdout",
     "output_type": "stream",
     "text": [
      "60.6 ms ± 9.66 ms per loop (mean ± std. dev. of 7 runs, 10 loops each)\n"
     ]
    }
   ],
   "source": [
    "%%timeit\n",
    "total = 0\n",
    "for level in p_input:\n",
    "    safe = safety(level)\n",
    "    if safe:\n",
    "        total += 1\n",
    "    else:\n",
    "        for index in range(len(lst)):\n",
    "            new_lst = lst[:index] + lst[index + 1:]\n",
    "            new_safe = safety(new_lst)\n",
    "            if new_safe:\n",
    "                total += 1\n",
    "                break"
   ]
  },
  {
   "cell_type": "markdown",
   "metadata": {},
   "source": [
    "Numpy:\n",
    "\n",
    "    118 ms ± 17.6 ms per loop (mean ± std. dev. of 7 runs, 1 loop each)\n",
    "\n",
    "Standard:\n",
    "\n",
    "    8.74 ms ± 383 μs per loop (mean ± std. dev. of 7 runs, 10 loops each)\n",
    "\n",
    "Overhead of creating and managing array objects probably isn't worth it for this small of a dataset. Let's try and create a bigger one to see if numpy is more effective at scale."
   ]
  },
  {
   "cell_type": "code",
   "execution_count": 51,
   "metadata": {},
   "outputs": [],
   "source": [
    "# Numpy\n",
    "p_input = np.random.randint(1, 10, size=(10000, 50))"
   ]
  },
  {
   "cell_type": "code",
   "execution_count": 60,
   "metadata": {},
   "outputs": [],
   "source": [
    "# Standard Python\n",
    "import random \n",
    "p_input = [[random.randint(1, 9) for _ in range(50)] for _ in range(10000)]"
   ]
  },
  {
   "cell_type": "markdown",
   "metadata": {},
   "source": [
    "Numpy:\n",
    "\n",
    "    456 ms ± 60.5 ms per loop (mean ± std. dev. of 7 runs, 1 loop each)\n",
    "\n",
    "Standard python:\n",
    "\n",
    "    60.6 ms ± 9.66 ms per loop (mean ± std. dev. of 7 runs, 10 loops each)\n",
    "\n",
    "Suprising.\n",
    "\n",
    "Possible explanations:\n",
    "\n",
    "- Large number of dyanamic array operations\n",
    "- Small arrays"
   ]
  }
 ],
 "metadata": {
  "kernelspec": {
   "display_name": ".venv",
   "language": "python",
   "name": "python3"
  },
  "language_info": {
   "codemirror_mode": {
    "name": "ipython",
    "version": 3
   },
   "file_extension": ".py",
   "mimetype": "text/x-python",
   "name": "python",
   "nbconvert_exporter": "python",
   "pygments_lexer": "ipython3",
   "version": "3.13.0"
  }
 },
 "nbformat": 4,
 "nbformat_minor": 2
}
