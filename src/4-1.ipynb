{
 "cells": [
  {
   "cell_type": "code",
   "execution_count": 134,
   "metadata": {},
   "outputs": [],
   "source": [
    "p_input = \"\"\"..X...\n",
    ".SAMX.\n",
    ".A..A.\n",
    "XMAS.S\n",
    ".X....\"\"\""
   ]
  },
  {
   "cell_type": "code",
   "execution_count": 135,
   "metadata": {},
   "outputs": [],
   "source": [
    "with open(\"4-1.txt\") as f:\n",
    "    p_input = f.read()"
   ]
  },
  {
   "cell_type": "code",
   "execution_count": 136,
   "metadata": {},
   "outputs": [],
   "source": [
    "import numpy as np"
   ]
  },
  {
   "cell_type": "markdown",
   "metadata": {},
   "source": [
    "Ok, so instinct says we should find every X and check for an M. The word \"XMAS\" can exist in any of 9 directions, so the direction of the X-M vector is the vector we need to check?\n",
    "\n",
    "Althought the simpler method of just iterating over each direction and diagonal and searching is probably WAY easier."
   ]
  },
  {
   "cell_type": "code",
   "execution_count": 125,
   "metadata": {},
   "outputs": [
    {
     "name": "stdout",
     "output_type": "stream",
     "text": [
      "1194\n"
     ]
    }
   ],
   "source": [
    "matches = 0\n",
    "p_list = np.array([list(line) for line in p_input.split()], dtype=str)\n",
    "\n",
    "\n",
    "matches += sum([1 for line in p_list if \"XMAS\" in \"\".join(line)])\n",
    "matches += sum([1 for line in p_list if \"XMAS\" in \"\".join(line[::-1])])\n",
    "matches += sum([1 for line in p_list.T if \"XMAS\" in \"\".join(line)])\n",
    "matches += sum([1 for line in p_list.T if \"XMAS\" in \"\".join(line[::-1])])\n",
    "\n",
    "n_rows, n_cols = p_list.shape\n",
    "\n",
    "for k_val in range(-n_rows+1, n_cols):\n",
    "    matches += \"XMAS\" in \"\".join(np.diag(p_list, k=-k_val))\n",
    "    matches += \"XMAS\" in \"\".join(np.diag(p_list, k=-k_val)[::-1])\n",
    "    matches += \"XMAS\" in \"\".join(np.diag(np.fliplr(p_list), k=k_val))\n",
    "    matches += \"XMAS\" in \"\".join(np.diag(np.fliplr(p_list), k=k_val)[::-1])\n",
    "\n",
    "print(matches)"
   ]
  },
  {
   "cell_type": "markdown",
   "metadata": {},
   "source": [
    "Works on all test cases but not the final answer.....OH. It's not a binary problem - we're asking how many times XMAS appears in the string ie `.count()`"
   ]
  },
  {
   "cell_type": "markdown",
   "metadata": {},
   "source": []
  },
  {
   "cell_type": "code",
   "execution_count": 137,
   "metadata": {},
   "outputs": [
    {
     "name": "stdout",
     "output_type": "stream",
     "text": [
      "2414\n"
     ]
    }
   ],
   "source": [
    "matches = 0\n",
    "p_list = np.array([list(line) for line in p_input.split()], dtype=str)\n",
    "\n",
    "matches += sum([\"\".join(line).count(\"XMAS\") for line in p_list])\n",
    "matches += sum([\"\".join(line[::-1]).count(\"XMAS\") for line in p_list])\n",
    "matches += sum([\"\".join(line).count(\"XMAS\") for line in p_list.T])\n",
    "matches += sum([\"\".join(line[::-1]).count(\"XMAS\") for line in p_list.T])\n",
    "\n",
    "n_rows, n_cols = p_list.shape\n",
    "\n",
    "for k_val in range(-n_rows+1, n_cols):\n",
    "    matches += \"\".join(np.diag(p_list, k=-k_val)).count(\"XMAS\")\n",
    "    matches += \"\".join(np.diag(p_list, k=-k_val)[::-1]).count(\"XMAS\")\n",
    "    matches += \"\".join(np.diag(np.fliplr(p_list), k=k_val)).count(\"XMAS\")\n",
    "    matches += \"\".join(np.diag(np.fliplr(p_list), k=k_val)[::-1]).count(\"XMAS\")\n",
    "\n",
    "print(matches)"
   ]
  },
  {
   "cell_type": "markdown",
   "metadata": {},
   "source": [
    "This does work, although having 8 different conditionals doesn't feel elegant at all!"
   ]
  },
  {
   "cell_type": "markdown",
   "metadata": {},
   "source": []
  }
 ],
 "metadata": {
  "kernelspec": {
   "display_name": ".venv",
   "language": "python",
   "name": "python3"
  },
  "language_info": {
   "codemirror_mode": {
    "name": "ipython",
    "version": 3
   },
   "file_extension": ".py",
   "mimetype": "text/x-python",
   "name": "python",
   "nbconvert_exporter": "python",
   "pygments_lexer": "ipython3",
   "version": "3.13.0"
  }
 },
 "nbformat": 4,
 "nbformat_minor": 2
}
