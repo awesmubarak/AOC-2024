{
 "cells": [
  {
   "cell_type": "code",
   "execution_count": 51,
   "metadata": {},
   "outputs": [],
   "source": [
    "import numpy as np\n",
    "from scipy.ndimage import rotate\n"
   ]
  },
  {
   "cell_type": "code",
   "execution_count": 101,
   "metadata": {},
   "outputs": [],
   "source": [
    "p_input = \"\"\".M.S......\n",
    "..A..MSMS.\n",
    ".M.S.MAA..\n",
    "..A.ASMSM.\n",
    ".M.S.M....\n",
    "..........\n",
    "S.S.S.S.S.\n",
    ".A.A.A.A..\n",
    "M.M.M.M.M.\n",
    "..........\"\"\""
   ]
  },
  {
   "cell_type": "code",
   "execution_count": 102,
   "metadata": {},
   "outputs": [],
   "source": [
    "with open(\"4-1.txt\") as f:\n",
    "    p_input = f.read()"
   ]
  },
  {
   "cell_type": "markdown",
   "metadata": {},
   "source": [
    "First reaction is `D:`\n",
    "\n",
    "Ok so this doesn't seem _that_ different - we're still looking for the string \"MAS\", but it seems like the \"A\" needs to be part of 2 \"MAS\"es. Instict is saying we could keep track of the cordinates of each Ain each directino (e.g NW-SE, NE-SW), and if that coordinate is in the list for both then it's the center of a valid X-MAS.\n",
    "\n",
    "Ok so essentially we keep track of how many \"MAS\"es cross over each \"A\". What if there's 4 MASes, is that 1 cross or 2? The specification doesn't say - let's say it's 2 for now. Either way, we should group the searches: diagnoals in the bottom left-top right direction (either way) can only cross with diagnolas in the transpose for instance."
   ]
  },
  {
   "cell_type": "code",
   "execution_count": 24,
   "metadata": {},
   "outputs": [],
   "source": [
    "matches = 0\n",
    "p_list = np.array([list(line) for line in p_input.split()], dtype=str)\n",
    "\n",
    "hor_coords = [(i, j+2) for i, line in enumerate(p_list) for j in range(len(line)) \n",
    "           if \"\".join(line)[j:j+4] == \"XMAS\"]\n",
    "\n",
    "horb_coords = [(i, j+1) for i, line in enumerate(p_list) for j in range(len(line)) \n",
    "           if \"\".join(line)[j:j+4] == \"SAMX\"]\n",
    "\n",
    "ver_coords = [(i, j+2) for i, line in enumerate(p_list.T) for j in range(len(line)) \n",
    "           if \"\".join(line)[j:j+4] == \"XMAS\"]\n",
    "\n",
    "verb_coords = [(i, j+1) for i, line in enumerate(p_list.T) for j in range(len(line)) \n",
    "           if \"\".join(line)[j:j+4] == \"SAMX\"]\n"
   ]
  },
  {
   "cell_type": "markdown",
   "metadata": {},
   "source": []
  },
  {
   "cell_type": "markdown",
   "metadata": {},
   "source": [
    "Ugh. I should have stared at the examples harder - X-es are _literally_ X-es, not crosses. That actually makes this a lot easier.\n",
    "\n",
    "Sketching this out on paper. There's clearly a relationship between the k value, the position and which \"MAS\" is found, and it's coordinates.\n",
    "\n",
    "...\n",
    "\n",
    "Ok I spent over an hour putting together a coordinate system, which I'll summarise with,\n",
    "\n",
    "\n",
    "**A Brief Treatsie on an Unnecessary Coordinate Transformation**\n",
    "\n",
    "Consider a diagonal grid system where we measure positions using two parameters:\n",
    "\n",
    "- $K$: representing distance from a central diagonal, top-right to bottom-left, centre diagonal numbered $0$ and increasing in a negative $y$ direction\n",
    "- $L$: measuring a position along diagonals parallel to the central line, increasing top-right to bottom-left\n",
    "\n",
    "We can define a transformation $T: ℝ² → ℝ²$ that maps these coordinates to a normalized diagonal basis:\n",
    "\n",
    "$$\n",
    "T: (K,L) ↦ (K̂,L̂)\n",
    "$$\n",
    "\n",
    "Where:\n",
    "\n",
    "$$\n",
    "\\hat{K} = K + max(K)\\\\\n",
    "\\hat{L} = L + abs(K)\n",
    "$$\n",
    "\n",
    "\n",
    "This transformation effectively normalises our asymmetric diagonal measurements into a regular coordinate system rotated 135° clockwise from standard Cartesian coordinates. The resulting $(K̂,L̂)$ space exhibits elegant symmetry properties, with $K̂$ increasing along the top-right to bottom-left diagonal and $L̂$ increasing along the top-left to bottom-right diagonal.\n",
    "\n",
    "This was all useless because we can just check all the points around a given \"A\""
   ]
  },
  {
   "cell_type": "code",
   "execution_count": 105,
   "metadata": {},
   "outputs": [
    {
     "name": "stdout",
     "output_type": "stream",
     "text": [
      "1871\n"
     ]
    }
   ],
   "source": [
    "matches = 0\n",
    "p_list = np.array([list(line) for line in p_input.split()], dtype=str)\n",
    "\n",
    "max_line, max_col = len(p_list), len(p_list[0])\n",
    "targets = (\"MAS\", \"SAM\")\n",
    "total = 0\n",
    "\n",
    "for line_n, line in enumerate(p_list):\n",
    "    for col_n, char in enumerate(line):\n",
    "        if 0 < line_n < max_line-1 and 0 < col_n < max_col-1:\n",
    "            if char == \"A\":\n",
    "                nw = p_list[line_n-1][col_n-1]\n",
    "                ne = p_list[line_n-1][col_n+1]\n",
    "                sw = p_list[line_n+1][col_n-1]\n",
    "                se = p_list[line_n+1][col_n+1]\n",
    "\n",
    "                if \"\".join([nw, char, se]) in targets and \"\".join([ne, char, sw]) in targets:\n",
    "                    total += 1\n",
    "\n",
    "print(total)"
   ]
  }
 ],
 "metadata": {
  "kernelspec": {
   "display_name": ".venv",
   "language": "python",
   "name": "python3"
  },
  "language_info": {
   "codemirror_mode": {
    "name": "ipython",
    "version": 3
   },
   "file_extension": ".py",
   "mimetype": "text/x-python",
   "name": "python",
   "nbconvert_exporter": "python",
   "pygments_lexer": "ipython3",
   "version": "3.13.0"
  }
 },
 "nbformat": 4,
 "nbformat_minor": 2
}
