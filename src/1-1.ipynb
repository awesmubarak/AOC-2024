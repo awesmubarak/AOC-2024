{
 "cells": [
  {
   "cell_type": "markdown",
   "metadata": {},
   "source": [
    "Get the puzzle input"
   ]
  },
  {
   "cell_type": "code",
   "execution_count": null,
   "metadata": {},
   "outputs": [],
   "source": [
    "import numpy as np\n",
    "\n",
    "with open(\"1-1.txt\") as f:\n",
    "    puzzle_input = f.readlines()"
   ]
  },
  {
   "cell_type": "markdown",
   "metadata": {},
   "source": [
    "Split the input into two lists - `li_A` and `li_B`. I'll use pure python first, and try NP after"
   ]
  },
  {
   "cell_type": "code",
   "execution_count": null,
   "metadata": {},
   "outputs": [],
   "source": [
    "li_A = []\n",
    "li_B = []\n",
    "for line in puzzle_input:\n",
    "    print(line)\n",
    "    A, B = line.split(\"   \")\n",
    "    li_A.append(int(A))\n",
    "    li_B.append(int(B))"
   ]
  },
  {
   "cell_type": "markdown",
   "metadata": {},
   "source": [
    "Calculating using standard python"
   ]
  },
  {
   "cell_type": "code",
   "execution_count": null,
   "metadata": {},
   "outputs": [],
   "source": [
    "%%timeit\n",
    "\n",
    "li_A_sorted = sorted(li_A)\n",
    "li_B_sorted = sorted(li_B)\n",
    "\n",
    "total_dist = 0\n",
    "for A, B in zip(li_A_sorted, li_B_sorted):\n",
    "    total_dist += abs(A - B)"
   ]
  },
  {
   "cell_type": "markdown",
   "metadata": {},
   "source": [
    "Using the preferred numpy method instead"
   ]
  },
  {
   "cell_type": "code",
   "execution_count": null,
   "metadata": {},
   "outputs": [],
   "source": [
    "%%timeit\n",
    "\n",
    "total_dist = np.sum(np.abs(np.sort(li_A) - np.sort(li_B)))"
   ]
  },
  {
   "cell_type": "markdown",
   "metadata": {},
   "source": [
    "Going back a bit, let's try to use a heap"
   ]
  },
  {
   "cell_type": "code",
   "execution_count": null,
   "metadata": {},
   "outputs": [],
   "source": [
    "import heapq\n",
    "\n",
    "heap_A, heap_B = [], []\n",
    "for line in puzzle_input:\n",
    "    A, B = line.split(\"   \")\n",
    "    heapq.heappush(heap_A, int(A))\n",
    "    heapq.heappush(heap_B, int(B))"
   ]
  },
  {
   "cell_type": "code",
   "execution_count": null,
   "metadata": {},
   "outputs": [],
   "source": [
    "%%timeit\n",
    "\n",
    "total_dist = 0\n",
    "while heap_A:\n",
    "    A = heapq.heappop(heap_A)\n",
    "    B = heapq.heappop(heap_B)\n",
    "    total_dist += abs(A - B)"
   ]
  },
  {
   "cell_type": "markdown",
   "metadata": {},
   "source": []
  },
  {
   "cell_type": "markdown",
   "metadata": {},
   "source": [
    "Well that's suprising."
   ]
  }
 ],
 "metadata": {
  "kernelspec": {
   "display_name": ".venv",
   "language": "python",
   "name": "python3"
  },
  "language_info": {
   "codemirror_mode": {
    "name": "ipython",
    "version": 3
   },
   "file_extension": ".py",
   "mimetype": "text/x-python",
   "name": "python",
   "nbconvert_exporter": "python",
   "pygments_lexer": "ipython3",
   "version": "3.13.0"
  }
 },
 "nbformat": 4,
 "nbformat_minor": 2
}
